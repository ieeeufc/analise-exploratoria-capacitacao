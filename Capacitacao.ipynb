{
 "cells": [
  {
   "cell_type": "markdown",
   "id": "a1c36f7a",
   "metadata": {},
   "source": [
    "## Capacitação - SIGHT \n",
    "### Tema: Análise Exploratória com Python\n",
    "#### Bibliotecas necessárias: Pandas, MatPlotLib, Seaborn\n"
   ]
  },
  {
   "cell_type": "markdown",
   "id": "b47a9d65",
   "metadata": {},
   "source": [
    "### Link's úteis para o momento:\n",
    "[Link do Github da capacitação](URL_do_link)\n",
    "\n",
    "\n",
    "### O que é análise exploratória?\n",
    "A análise exploratória é uma abordagem utilizada para examinar e compreender conjuntos de dados. Ela envolve a exploração inicial dos dados por meio de técnicas estatísticas e visualizações para identificar padrões, tendências e insights preliminares. Essa análise busca resumir características importantes dos dados, como sua distribuição, correlações e possíveis valores atípicos, a fim de orientar análises mais aprofundadas e tomadas de decisão informadas.\n",
    "- Temas abordados: \n",
    "    - Estatística\n",
    "    - Construção de hipotéses\n",
    "    - Programação\n",
    "    - Insights\n",
    "    \n",
    "### Revisão de Estatística\n",
    "Não existe dados sem estatística.\n",
    "1. Medidas de centralidade\n",
    "2. Medidas de dispersão\n",
    "3. Gráficos\n",
    "4. Distribuição"
   ]
  },
  {
   "cell_type": "markdown",
   "id": "bf20ea7f",
   "metadata": {},
   "source": [
    "### Manipulação de dados com Pandas\n",
    "O que é o pandas?\n",
    "\n",
    "Existem outras opções?\n",
    "\n",
    "1. Criando datasets do zero\n",
    "   - Entendendo a estrutura de datasets\n",
    "2. Construindo um pensamento analítico\n",
    "   - Preço de casas\n",
    "   - Tempo em rede social"
   ]
  },
  {
   "cell_type": "code",
   "execution_count": null,
   "id": "cf7fdcaa",
   "metadata": {},
   "outputs": [],
   "source": [
    "#pip intall pandas\n",
    "#pip install matplotlib\n",
    "#pip install seaborn"
   ]
  },
  {
   "cell_type": "code",
   "execution_count": null,
   "id": "b4a66383",
   "metadata": {},
   "outputs": [],
   "source": [
    "# Importando a principal biblioteca\n",
    "import pandas as pd\n",
    "\n",
    "import warnings\n",
    "warnings.filterwarnings('ignore')"
   ]
  },
  {
   "cell_type": "code",
   "execution_count": null,
   "id": "e34813fb",
   "metadata": {},
   "outputs": [],
   "source": [
    "# Como criar datasets\n",
    "'''\n",
    "Método 1 -> Lista de listas\n",
    "Criando um dataset sobre os membros do sight\n",
    "'''\n",
    "\n",
    "sight = [['Livia Belo', 23, 'Fortaleza', 'Diretoria'],\n",
    "        ['Bruno Faustino', 23, 'Fortaleza', 'Gestão de Projetos'],\n",
    "        ['Victor Silvestre', 20, 'Fortaleza', 'Diretoria'],\n",
    "        ['Gabriel Fontenele', 21, 'Fortaleza', 'Tesouraria'],\n",
    "        ['Lucas Carneiro', 18, 'Fortaleza', 'Gestão de Pessoas'], \n",
    "        ['Marcos Pena', 22, 'Rio Branco', 'Gestão de Pessoas'],\n",
    "        ['Ingrid Maria', 19, 'Fortaleza', 'Gestão de Projetos'],\n",
    "        ['Diogo de Oliveira', 20, 'Fortaleza', 'Marketing']]\n",
    "\n",
    "df_sight = pd.DataFrame(sight, columns = ['Nome', 'Idade', 'Cidade_n', 'Comitê'])"
   ]
  },
  {
   "cell_type": "code",
   "execution_count": null,
   "id": "d06a58ce",
   "metadata": {},
   "outputs": [],
   "source": [
    "'''\n",
    "Método 2 -> Dicionário\n",
    "'''\n",
    "\n",
    "dados = {'Nome' : ['Livia Belo', 'Bruno Faustino', 'Victor Silvestre', 'Gabriel Fontenele', 'Lucas Carneiro', \n",
    "                  'Marcos Pena', 'Ingrid Maria', 'Diogo de Oliveira'], \n",
    "        'Idade' : [23, 23,  20, 21, 18, 22, 19, 20],\n",
    "        'Cidade_n' : ['Fortaleza', 'Fortaleza', 'Fortaleza', 'Fortaleza', 'Fortaleza', 'Fortaleza', 'Rio Branco',\n",
    "                     'Fortaleza'], \n",
    "        'Comitê' : ['Diretoria', 'Gestão de Projetos', 'Diretoria', 'Tesouraria', 'Gestão de Pessoas', 'Gestão de Pessoas',\n",
    "                   'Gestão de Projetos', 'Marketing']}\n",
    "\n",
    "df_sight_dict = pd.DataFrame(dados)"
   ]
  },
  {
   "cell_type": "code",
   "execution_count": null,
   "id": "3ce9aa93",
   "metadata": {},
   "outputs": [],
   "source": [
    "# Eis aqui o resultado\n",
    "df_sight_dict"
   ]
  },
  {
   "cell_type": "code",
   "execution_count": null,
   "id": "b94c4bae",
   "metadata": {
    "scrolled": false
   },
   "outputs": [],
   "source": [
    "df_sight"
   ]
  },
  {
   "cell_type": "code",
   "execution_count": null,
   "id": "ddb776d3",
   "metadata": {},
   "outputs": [],
   "source": [
    "# Visualização simples da tebela -> .head(n_exibidos) e .tail(n_exibidos)\n",
    "df_sight.head(2)"
   ]
  },
  {
   "cell_type": "markdown",
   "id": "77b950db",
   "metadata": {},
   "source": [
    "######"
   ]
  },
  {
   "cell_type": "markdown",
   "id": "6d2a5ea8",
   "metadata": {},
   "source": [
    "#### Aprendendo a filtrar valores\n",
    "- Em que situações isso é útil?"
   ]
  },
  {
   "cell_type": "code",
   "execution_count": null,
   "id": "ec0df01d",
   "metadata": {},
   "outputs": [],
   "source": [
    "# Filtragem Booleana\n",
    "df_sight[df_sight['Cidade_n'] != 'Fortaleza']"
   ]
  },
  {
   "cell_type": "code",
   "execution_count": null,
   "id": "b2f3f1c8",
   "metadata": {},
   "outputs": [],
   "source": [
    "# Filtragem com método interno\n",
    "df_filtrado = df_sight.query(\"Comitê == 'Gestão de Pessoas'\")\n",
    "\n",
    "# Podemos atribuir nossos filtros a variáveis, assim teremos a criação de outro dataset\n",
    "print(df_filtrado)"
   ]
  },
  {
   "cell_type": "code",
   "execution_count": null,
   "id": "d046fb27",
   "metadata": {},
   "outputs": [],
   "source": [
    "# Filtragem com string\n",
    "df_sight_dict.loc[df_sight_dict['Nome'].str.contains(\"l\")]"
   ]
  },
  {
   "cell_type": "code",
   "execution_count": null,
   "id": "8444d961",
   "metadata": {},
   "outputs": [],
   "source": [
    "# Filtragem por condições numéricas\n",
    "df_sight_dict[df_sight_dict['Idade'] >= 21]"
   ]
  },
  {
   "cell_type": "code",
   "execution_count": null,
   "id": "bb420aeb",
   "metadata": {},
   "outputs": [],
   "source": [
    "df_sight_dict.query('Idade >= 18 and Idade <= 21')"
   ]
  },
  {
   "cell_type": "markdown",
   "id": "42d734c7",
   "metadata": {},
   "source": [
    "### Muitas vezes é útil ter as informações de formas ordenadas\n",
    "O pandas permite isso?\n",
    "\n",
    "Sim, ele permite através do método .sort_values('coluna')"
   ]
  },
  {
   "cell_type": "code",
   "execution_count": null,
   "id": "b2cd1a3f",
   "metadata": {},
   "outputs": [],
   "source": [
    "df_ordenado = df_sight_dict.sort_values(by='Idade', ascending = False)\n",
    "df_ordenado"
   ]
  },
  {
   "cell_type": "markdown",
   "id": "09890879",
   "metadata": {},
   "source": []
  },
  {
   "cell_type": "code",
   "execution_count": null,
   "id": "26444e4a",
   "metadata": {},
   "outputs": [],
   "source": [
    "# Criando + colunas \n",
    "# colune ->Tipo sanguíneo\n",
    "import random \n",
    "\n",
    "tipos_sanguineos = ['A+', 'A-', 'B+', 'B-', 'AB+', 'AB-', 'O+', 'O-']\n",
    "\n",
    "df_sight['Tipo_Sanguineo'] = random.choices(tipos_sanguineos, k=len(df_sight))\n",
    "\n",
    "df_sight"
   ]
  },
  {
   "cell_type": "code",
   "execution_count": null,
   "id": "77056c90",
   "metadata": {},
   "outputs": [],
   "source": [
    "# Excluindo uma coluna \n",
    "df_sight.drop('Tipo_Sanguineo', axis=1, inplace=False)"
   ]
  },
  {
   "cell_type": "markdown",
   "id": "9c1764b2",
   "metadata": {},
   "source": [
    "### Podemos também criar colunas com funções matemáticas\n",
    "Vou dar um exemplo abaixo com + dados artificiais"
   ]
  },
  {
   "cell_type": "code",
   "execution_count": null,
   "id": "c158a32d",
   "metadata": {},
   "outputs": [],
   "source": [
    "# Criando o dataset 'art'\n",
    "art = pd.DataFrame({'A': [1, 2, 3, 4, 5]})\n",
    "\n",
    "# Criar uma nova coluna 'B' com o quadrado dos valores da coluna 'A'\n",
    "art['B'] = art['A'] ** 2\n",
    "\n",
    "# Criar uma nova coluna 'C' com uma função\n",
    "def minha_funcao(x):\n",
    "    return x * 3 + 2\n",
    "\n",
    "art['C'] = art['A'].apply(minha_funcao)\n",
    "\n",
    "# Criar uma nova coluna 'D' de classificação par ou ímpar\n",
    "art['D'] = ['par' if x % 2 == 0 else 'ímpar' for x in art['A']]\n",
    "art"
   ]
  },
  {
   "cell_type": "markdown",
   "id": "a9b89724",
   "metadata": {},
   "source": [
    "### Exercício: Com base no dataset anterior, você consegue filtrar apenas os números ímpares?\n",
    "Usa a célula abaixo para resolver esse problema :)"
   ]
  },
  {
   "cell_type": "code",
   "execution_count": null,
   "id": "62de6663",
   "metadata": {},
   "outputs": [],
   "source": []
  },
  {
   "cell_type": "markdown",
   "id": "27ee64d7",
   "metadata": {},
   "source": [
    "### Construindo um pensamento analítico\n",
    "Duas situações:\n",
    "\n",
    "1. Você trabalha no AirBnb como analista de dados. Certo dia, seu gestor chega para você e lhe dá a notícia que estarão expandindo as atividades da empresa para uma cidade litorânea localizada no Ceará, o Icaraí. Como você bem sabe, o AirBnb é uma empresa responsável por conectar viajantes aos propietários de imóveis, por um ótimo preço e com o maior conforto possível. Dito isso, seu gestor necessita dos dados existentes nessa localidade para estimar o preço mais justo para as moradias. Liste os dados que você acredita que possui maior influência no preço da diária de uma casa. \n",
    "####\n",
    "2. Você é um analista de dados que trabalha prestando serviços a Rede Social da UFC, ela é usada por estudantes e professores, o conteúdo postado varia entre fotos no RU, reclamações sobre professores e provas, rotina e atividades desenvolvidas em projeto de extensão. A sua missão é entender que dados são mais úteis dentro da lista abaixo para fazer com que os usuários usem o aplicativo por mais tempo. Selecione os 3 que você julga mais importante."
   ]
  },
  {
   "cell_type": "code",
   "execution_count": null,
   "id": "b9a76ed5",
   "metadata": {},
   "outputs": [],
   "source": [
    "data = [['Tempo de atividade por sessão'], ['Frequência de login por dia'], ['Tempo gasto por recurso'], ['Tempo médio por sessão'],\n",
    "       ['Tempo de intividade'], ['Número de seguidores'], ['Número de amigos'], ['Fotos postadas'], ['Gênero'], ['Idade'],\n",
    "       ['Número de projetos de extensão que participa']]\n",
    "pd.DataFrame(data, columns = ['Dados'])"
   ]
  },
  {
   "cell_type": "code",
   "execution_count": null,
   "id": "981f5d04",
   "metadata": {},
   "outputs": [],
   "source": []
  },
  {
   "cell_type": "markdown",
   "id": "7bf4c7fa",
   "metadata": {},
   "source": [
    "### Revisão rápida de estatística\n",
    "Medidas de tendência central \n",
    "1. Média \n",
    "      ## $\\sum^{n}_{i=1}$$\\frac{m^{}_{i}}{n}$\n",
    "2. Mediana \n",
    "    - Mostra o valor central em uma lista de dados. Usada quando há presença de outliers\n",
    "        ## $\\frac{n+1}{2}$\n",
    "    \n",
    "3. Moda\n",
    "    - Valor que mais se repete no conjunto de dados\n",
    "    \n",
    "4. Quantil\n",
    "    - O quantil é uma medida estatística que divide uma distribuição de dados em partes iguais ou em proporções específicas. Em outras palavras, é um valor que separa os dados em grupos de tamanhos iguais ou em uma determinada proporção.\n",
    "    \n",
    "5. Percentil\n",
    "    - O percentil é uma medida estatística que indica o valor abaixo do qual uma determinada porcentagem dos dados se encontra. É uma forma de quantil onde a proporção é expressa em termos de porcentagem. Por exemplo, o percentil 25 indica o valor abaixo do qual 25% dos dados se encontram.\n",
    "    \n",
    "### Como calcular usando python?\n",
    "- A biblioteca pandas já lhe oferece um conjunto de métodos para calcular as medidas de tendência centrais, estes métodos são: .mean(), .median(), .describe()\n",
    "\n",
    "Abaixo estará a desmonstração  usando o dataset art"
   ]
  },
  {
   "cell_type": "code",
   "execution_count": null,
   "id": "fec3daca",
   "metadata": {},
   "outputs": [],
   "source": [
    "media = art['B'].mean() \n",
    "mediana = art['B'].median()\n",
    "moda = art['B'].mode()\n",
    "soma = art['B'].sum()\n",
    "unicos = art['B'].nunique()"
   ]
  },
  {
   "attachments": {
    "image-3.png": {
     "image/png": "[encoded data removed]"
    },
    "image-4.png": {
     "image/png": "[encoded data removed]"
    },
    "image.png": {
     "image/png": "[encoded data removed]"
    }
   },
   "cell_type": "markdown",
   "id": "4a968866",
   "metadata": {},
   "source": [
    "#### Medidas de dispersão\n",
    "1. Amplitude\n",
    "2. Variancia \n",
    "![image-3.png](attachment:image-3.png)\n",
    "3. Covariância\n",
    "![image.png](attachment:image.png)\n",
    "4. Desvio padrão\n",
    "![image-4.png](attachment:image-4.png)"
   ]
  },
  {
   "cell_type": "code",
   "execution_count": null,
   "id": "98dbde79",
   "metadata": {},
   "outputs": [],
   "source": [
    "# Amplitude\n",
    "menor_valor = art['B'].min()\n",
    "maior_valor = art['B'].max()\n",
    "amplitude = maior_valor - menor_valor"
   ]
  },
  {
   "cell_type": "code",
   "execution_count": null,
   "id": "dcd26576",
   "metadata": {},
   "outputs": [],
   "source": [
    "# Variância\n",
    "var = art['B'].var()\n",
    "\n",
    "# Desvio padrão \n",
    "std = art['B'].std()\n",
    "\n",
    "# Covariância\n",
    "covar = art['A'].cov(art['B']) #Entre dois conjuntos de dados\n",
    "\n",
    "covar_matriz = art.cov()"
   ]
  },
  {
   "cell_type": "code",
   "execution_count": null,
   "id": "b3053291",
   "metadata": {},
   "outputs": [],
   "source": [
    "art.describe()"
   ]
  },
  {
   "cell_type": "code",
   "execution_count": null,
   "id": "d8bc2830",
   "metadata": {},
   "outputs": [],
   "source": []
  },
  {
   "cell_type": "markdown",
   "id": "8e648391",
   "metadata": {},
   "source": [
    "### Análise exploratória propriamente dita"
   ]
  },
  {
   "cell_type": "markdown",
   "id": "85eab285",
   "metadata": {},
   "source": [
    "[Link do dataset](https://www.kaggle.com/competitions/house-prices-advanced-regression-techniques/data?select=train.csv)"
   ]
  },
  {
   "cell_type": "code",
   "execution_count": null,
   "id": "7f4148e7",
   "metadata": {},
   "outputs": [],
   "source": [
    "# Importando biblioteca para gráficos\n",
    "import matplotlib.pyplot as plt\n",
    "import seaborn as sns\n",
    "# Lendo os dados\n",
    "''' Usaremos o dataset presente no link no início desse documento '''\n",
    "caminho = r'C:\\Users\\pjroc\\Projetos\\Capacitação - SIGHT\\Dataset\\train.csv'\n",
    "casa = pd.read_csv(caminho)"
   ]
  },
  {
   "cell_type": "markdown",
   "id": "295d0ed6",
   "metadata": {},
   "source": [
    "#### Conhecendo os seus dados mais a fundo"
   ]
  },
  {
   "cell_type": "code",
   "execution_count": null,
   "id": "d27190fa",
   "metadata": {},
   "outputs": [],
   "source": [
    "# Verificando a dimensão dos seus dados\n",
    "print(f'O dataset possui {casa.shape[0]} linhas e {casa.shape[1]} colunas')"
   ]
  },
  {
   "cell_type": "code",
   "execution_count": null,
   "id": "14383d81",
   "metadata": {},
   "outputs": [],
   "source": [
    "colunas_numericas = casa.select_dtypes(include='number')\n",
    "colunas_categoricas = casa.select_dtypes(include='object')"
   ]
  },
  {
   "cell_type": "code",
   "execution_count": null,
   "id": "97e8a385",
   "metadata": {},
   "outputs": [],
   "source": [
    "colunas_numericas.columns"
   ]
  },
  {
   "cell_type": "code",
   "execution_count": null,
   "id": "dfca3b88",
   "metadata": {},
   "outputs": [],
   "source": [
    "colunas_categoricas.columns"
   ]
  },
  {
   "cell_type": "code",
   "execution_count": null,
   "id": "f7686626",
   "metadata": {},
   "outputs": [],
   "source": [
    "# Verificando a presença de dados nulos\n",
    "colunas_com_nulos = casa.columns[casa.isnull().any()]\n",
    "quantidade_nulos = casa[colunas_com_nulos].isnull().sum()"
   ]
  },
  {
   "cell_type": "code",
   "execution_count": null,
   "id": "670f2e43",
   "metadata": {},
   "outputs": [],
   "source": [
    "quantidade_nulos"
   ]
  },
  {
   "cell_type": "markdown",
   "id": "b481c025",
   "metadata": {},
   "source": [
    "### O que fazer com esses dados nulos?\n",
    "Existem diversos métodos para lidar com esses dados. Irei explicar agora alguns deles:\n",
    "1. Preenchimento por média\n",
    "2. Preenchimento por mediana\n",
    "3. Utilizando machine learning (KNN)\n",
    "4. Usando interpolação\n",
    "5. Exclusão \n",
    "\n",
    "Síntaxe do código: df['coluna'].fillna(df[coluna].mean())"
   ]
  },
  {
   "cell_type": "code",
   "execution_count": null,
   "id": "00588035",
   "metadata": {},
   "outputs": [],
   "source": [
    "# media = df[coluna].mean      é salvo um valor escalar \n",
    "# df[coluna].fillna(media)"
   ]
  },
  {
   "cell_type": "markdown",
   "id": "adadcab6",
   "metadata": {},
   "source": [
    "## Explorando"
   ]
  },
  {
   "cell_type": "code",
   "execution_count": null,
   "id": "f687cf6d",
   "metadata": {},
   "outputs": [],
   "source": [
    "# Gráfico de contagem \n",
    "# sns.countplot\n",
    "#plt.figure(figsize = (10, 10))\n",
    "sns.countplot(data = casa, y = 'Neighborhood') #'''width = 0.95'''"
   ]
  },
  {
   "cell_type": "code",
   "execution_count": null,
   "id": "51b063a3",
   "metadata": {},
   "outputs": [],
   "source": [
    "# Gráfico de barras - Explora uma variável em função de uma outra\n",
    "sns.barplot(data = casa, x = 'Neighborhood', y = 'SalePrice')"
   ]
  },
  {
   "cell_type": "code",
   "execution_count": null,
   "id": "3719f8e8",
   "metadata": {},
   "outputs": [],
   "source": [
    "sns.boxplot(data = casa, x = 'Neighborhood', y = 'SalePrice')\n",
    "plt.tick_params(axis= 'x', rotation= 45)"
   ]
  },
  {
   "cell_type": "code",
   "execution_count": null,
   "id": "6dfee98e",
   "metadata": {},
   "outputs": [],
   "source": [
    "sns.boxplot(data=casa, y='SalePrice', x='OverallQual')"
   ]
  },
  {
   "cell_type": "code",
   "execution_count": null,
   "id": "a8dffdba",
   "metadata": {},
   "outputs": [],
   "source": [
    "sns.scatterplot(data = casa, x = '1stFlrSF', y = 'SalePrice', hue = 'OverallQual')\n",
    "plt.title('Análise preço x área do primeiro andar')"
   ]
  },
  {
   "cell_type": "code",
   "execution_count": null,
   "id": "bccd4154",
   "metadata": {},
   "outputs": [],
   "source": [
    "#sns.scatterplot(data = casa, x = '2ndFlrSF', y = 'SalePrice', hue = 'OverallQual')\n",
    "#plt.title('Análise preço x área do segundo andar')"
   ]
  },
  {
   "cell_type": "code",
   "execution_count": null,
   "id": "4fd40383",
   "metadata": {},
   "outputs": [],
   "source": [
    "sns.regplot(data = casa, x = '1stFlrSF', y = 'SalePrice')"
   ]
  },
  {
   "cell_type": "code",
   "execution_count": null,
   "id": "61ea8778",
   "metadata": {},
   "outputs": [],
   "source": [
    "df_sel = casa[['SalePrice', 'OverallQual',\n",
    "       'OverallCond', 'YearBuilt', 'YearRemodAdd', 'MasVnrArea', 'BsmtFinSF1',\n",
    "       'BsmtFinSF2', 'BsmtUnfSF', 'TotalBsmtSF', '1stFlrSF', '2ndFlrSF']]\n",
    "\n",
    "\n",
    "matriz_corr = df_sel.corr()\n",
    "sns.heatmap(matriz_corr, annot=False, cmap='coolwarm')"
   ]
  },
  {
   "cell_type": "code",
   "execution_count": null,
   "id": "ad53c965",
   "metadata": {},
   "outputs": [],
   "source": [
    "print(casa['SalePrice'].describe())\n",
    "plt.figure(figsize=(9, 8))\n",
    "sns.distplot(casa['SalePrice'], color='g', bins=100, hist_kws={'alpha': 0.4});"
   ]
  },
  {
   "cell_type": "markdown",
   "id": "a7663768",
   "metadata": {},
   "source": [
    "####\n",
    "####\n",
    "### Agora é sua vez! \n",
    "### Vamos pegar o dataset abaixo, ler o significado de suas features e analisá-lo :)\n",
    "[Link do dataset](https://www.kaggle.com/datasets/uciml/red-wine-quality-cortez-et-al-2009)"
   ]
  },
  {
   "cell_type": "code",
   "execution_count": null,
   "id": "d8bdf96b",
   "metadata": {},
   "outputs": [],
   "source": [
    "# Lendo os dados\n",
    "diretorio = r'C:\\Users\\pjroc\\Projetos\\Capacitação - SIGHT\\Dataset\\winemag-data-130k-v2.csv'\n",
    "df_w = pd.read_csv(diretorio)"
   ]
  },
  {
   "cell_type": "code",
   "execution_count": null,
   "id": "7fa3b3bd",
   "metadata": {},
   "outputs": [],
   "source": [
    "df_w.head()"
   ]
  },
  {
   "cell_type": "code",
   "execution_count": null,
   "id": "b8316d11",
   "metadata": {},
   "outputs": [],
   "source": [
    "countries = df_w.country.unique()\n",
    "countries"
   ]
  },
  {
   "cell_type": "code",
   "execution_count": null,
   "id": "e7a9ee42",
   "metadata": {},
   "outputs": [],
   "source": [
    "reviews_per_country = df_w.country.value_counts()"
   ]
  },
  {
   "cell_type": "code",
   "execution_count": null,
   "id": "d09dc67f",
   "metadata": {},
   "outputs": [],
   "source": [
    "reviews_per_country"
   ]
  },
  {
   "cell_type": "markdown",
   "id": "ebd5dcf2",
   "metadata": {},
   "source": [
    "### Escolha um país e veja que variedade de uva possui o preço mais alto e estude também a pontuação em relação a variedade. Diga se corresponde ao esperado ( maior preço, maior pontuação )"
   ]
  },
  {
   "cell_type": "code",
   "execution_count": null,
   "id": "c05e2555",
   "metadata": {},
   "outputs": [],
   "source": [
    "# Filtrando o dataset \n",
    "df_brasil = df_w[df_w['country'] == 'Brazil']"
   ]
  },
  {
   "cell_type": "code",
   "execution_count": null,
   "id": "3ec7e3ef",
   "metadata": {},
   "outputs": [],
   "source": [
    "df_brasil.drop('Unnamed: 0', axis=1, inplace = True)"
   ]
  },
  {
   "cell_type": "code",
   "execution_count": null,
   "id": "6c6a6c84",
   "metadata": {},
   "outputs": [],
   "source": [
    "sns.barplot(data = df_brasil, y = 'variety', x = 'price', orient = 'h')"
   ]
  },
  {
   "cell_type": "code",
   "execution_count": null,
   "id": "6278cd16",
   "metadata": {},
   "outputs": [],
   "source": [
    "sns.barplot(data = df_brasil, y = 'variety', x = 'points', orient = 'h')"
   ]
  },
  {
   "cell_type": "code",
   "execution_count": null,
   "id": "73ce2373",
   "metadata": {},
   "outputs": [],
   "source": [
    "sns.scatterplot(data = df_brasil, x='points', y = 'price', hue = 'title', palette = 'viridis')\n",
    "plt.legend(title='Título', bbox_to_anchor=(1.02, 1), loc='upper left')"
   ]
  },
  {
   "cell_type": "markdown",
   "id": "0db08e4b",
   "metadata": {},
   "source": [
    "### Questão para finalizar: Eu sou um comprador de vinho econômico e quero saber qual vinho apresenta o melhor custo benefício"
   ]
  },
  {
   "cell_type": "code",
   "execution_count": null,
   "id": "13b03fb2",
   "metadata": {},
   "outputs": [],
   "source": []
  },
  {
   "cell_type": "code",
   "execution_count": null,
   "id": "25bfb388",
   "metadata": {},
   "outputs": [],
   "source": []
  },
  {
   "cell_type": "markdown",
   "id": "55797a7f",
   "metadata": {},
   "source": [
    "### Solução:"
   ]
  },
  {
   "cell_type": "code",
   "execution_count": null,
   "id": "eb5d37b7",
   "metadata": {
    "collapsed": true
   },
   "outputs": [],
   "source": [
    "points_to_price_ratio = df_w['points']/df_w['price'] # Cria uma lista com a razão entre as duas colunas\n",
    "df_w['points_to_price_ratio'] = points_to_price_ratio # Cria uma coluna com a lista feita\n",
    "max_points_price_ratio = points_to_price_ratio.max() # Cria um escalar com o valor máximo da razão\n",
    "print(df_w[df_w['points_to_price_ratio'] == max_points_price_ratio]['title'].iloc[1])\n",
    "bargain_wine = df_w[df_w['points_to_price_ratio'] == max_points_price_ratio]['title'].iloc[1]"
   ]
  },
  {
   "cell_type": "markdown",
   "id": "bcc33421",
   "metadata": {},
   "source": [
    "### Opcional: Crie uma classificação numérica para os vinhos com base na sua pontuação (points)\n",
    "Nas próximas linhas de código, lhe ensinarei a usar .apply. É um método para aplicação de função no dataset\n",
    "\n"
   ]
  },
  {
   "cell_type": "code",
   "execution_count": null,
   "id": "007f47e6",
   "metadata": {},
   "outputs": [],
   "source": [
    "data = {'A': [1, 2, 3, 4, 5]}\n",
    "df_t = pd.DataFrame(data)\n",
    "df_t"
   ]
  },
  {
   "cell_type": "code",
   "execution_count": null,
   "id": "6022b0a2",
   "metadata": {},
   "outputs": [],
   "source": [
    "def square(x):\n",
    "    return x**2\n",
    "\n",
    "# Aplicar a função à coluna 'A'\n",
    "df_t['A_squared'] = df_t['A'].apply(square)     # Cria uma nova coluna com os valores quadrados de a\n",
    "\n",
    "# Imprimir o dataframe resultante\n",
    "df_t"
   ]
  },
  {
   "cell_type": "code",
   "execution_count": null,
   "id": "3d9bf0e7",
   "metadata": {},
   "outputs": [],
   "source": []
  },
  {
   "cell_type": "code",
   "execution_count": null,
   "id": "165396db",
   "metadata": {},
   "outputs": [],
   "source": []
  },
  {
   "cell_type": "code",
   "execution_count": null,
   "id": "5bf4eef6",
   "metadata": {},
   "outputs": [],
   "source": []
  },
  {
   "cell_type": "code",
   "execution_count": null,
   "id": "ebaab811",
   "metadata": {},
   "outputs": [],
   "source": []
  },
  {
   "cell_type": "code",
   "execution_count": null,
   "id": "d21b65a3",
   "metadata": {},
   "outputs": [],
   "source": []
  },
  {
   "cell_type": "code",
   "execution_count": null,
   "id": "c2351377",
   "metadata": {},
   "outputs": [],
   "source": []
  }
 ],
 "metadata": {
  "kernelspec": {
   "display_name": "Python 3 (ipykernel)",
   "language": "python",
   "name": "python3"
  },
  "language_info": {
   "codemirror_mode": {
    "name": "ipython",
    "version": 3
   },
   "file_extension": ".py",
   "mimetype": "text/x-python",
   "name": "python",
   "nbconvert_exporter": "python",
   "pygments_lexer": "ipython3",
   "version": "3.10.9"
  }
 },
 "nbformat": 4,
 "nbformat_minor": 5
}
